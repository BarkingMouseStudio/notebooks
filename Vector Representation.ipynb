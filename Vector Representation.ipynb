{
 "cells": [
  {
   "cell_type": "markdown",
   "metadata": {},
   "source": [
    "# Vector Representation\n",
    "\n",
    "Implementing vector representation in a population code using the Neural Engineering Framework."
   ]
  },
  {
   "cell_type": "markdown",
   "metadata": {},
   "source": [
    "**Response function** maps current to frequency.\n",
    "\n",
    "**Tuning curve** maps scalar to frequency."
   ]
  },
  {
   "cell_type": "code",
   "execution_count": 1,
   "metadata": {
    "collapsed": true
   },
   "outputs": [],
   "source": [
    "%matplotlib inline\n",
    "\n",
    "import numpy as np\n",
    "import theano\n",
    "import theano.tensor as T\n",
    "\n",
    "import matplotlib.pyplot as plt\n",
    "\n",
    "from neural.neuron_group import NeuronGroup"
   ]
  },
  {
   "cell_type": "code",
   "execution_count": 91,
   "metadata": {
    "collapsed": false
   },
   "outputs": [],
   "source": [
    "N = NeuronGroup(1, 0.02, 0.2, -65.0, 8)\n",
    "now = 0\n",
    "\n",
    "injected = np.arange(0.0, 250.0, 1.0)\n",
    "frequency = []\n",
    "\n",
    "for dc in injected:\n",
    "    for i in range(0, 50):\n",
    "        N.tick(now, np.zeros(N.size, dtype=theano.config.floatX))\n",
    "        now += 1\n",
    "\n",
    "    t = 250\n",
    "    sm = 0.0\n",
    "    for i in range(0, t):\n",
    "        N.tick(now, np.ones(N.size, dtype=theano.config.floatX) * dc)\n",
    "        now += 1\n",
    "        sm += N.rate.get_value()[0]\n",
    "\n",
    "    frequency.append(sm / t)"
   ]
  },
  {
   "cell_type": "code",
   "execution_count": 92,
   "metadata": {
    "collapsed": false
   },
   "outputs": [
    {
     "data": {
      "text/plain": [
       "[<matplotlib.lines.Line2D at 0x1181c0d50>]"
      ]
     },
     "execution_count": 92,
     "metadata": {},
     "output_type": "execute_result"
    },
    {
     "data": {
      "image/png": "[encoded data removed]",
      "text/plain": [
       "<matplotlib.figure.Figure at 0x1180d9210>"
      ]
     },
     "metadata": {},
     "output_type": "display_data"
    }
   ],
   "source": [
    "plt.plot(injected, frequency)"
   ]
  },
  {
   "cell_type": "markdown",
   "metadata": {},
   "source": [
    "## Encoding"
   ]
  },
  {
   "cell_type": "code",
   "execution_count": 14,
   "metadata": {
    "collapsed": false
   },
   "outputs": [],
   "source": [
    "x = T.scalar(\"x\") # encoded value\n",
    "alpha = T.vector(\"alpha\") # scales magnitude of x to match tuning curves\n",
    "\n",
    "J_threshold = T.vector(\"J_threshold\") # current threshold\n",
    "J_bias = T.vector(\"J_bias\") # background current\n",
    "\n",
    "tau_ref = T.vector(\"tau_ref\") # refractory period\n",
    "tau_RC = T.vector(\"tau_RC\") # RC time constant"
   ]
  },
  {
   "cell_type": "code",
   "execution_count": 26,
   "metadata": {
    "collapsed": false
   },
   "outputs": [],
   "source": [
    "J = theano.function([x, alpha, J_bias], alpha * x + J_bias)"
   ]
  },
  {
   "cell_type": "code",
   "execution_count": 29,
   "metadata": {
    "collapsed": false
   },
   "outputs": [],
   "source": [
    "N = 100\n",
    "x_ = np.arange(-1, 1, 2. / N)\n",
    "alpha_ = np.arange(0, 1, 0.01)\n",
    "J_bias_ = np.arange(0, 1, 0.01)\n",
    "J_x = J(x_, alpha_, J_bias_)"
   ]
  },
  {
   "cell_type": "code",
   "execution_count": 30,
   "metadata": {
    "collapsed": true
   },
   "outputs": [],
   "source": [
    "G_expr = T.switch(T.gt(alpha * x + J_bias, J_threshold), \\\n",
    "                  1 / (tau_ref - tau_RC * T.log(1 - J_threshold / J_x)), \\\n",
    "                  0)\n",
    "G = theano.function([x, alpha, J_bias, J_threshold, tau_ref, tau_RC], \\\n",
    "                    G_expr, name=\"G\")"
   ]
  },
  {
   "cell_type": "code",
   "execution_count": 32,
   "metadata": {
    "collapsed": false
   },
   "outputs": [],
   "source": [
    "J_threshold_ = np.arange(0, 1, 0.01)\n",
    "tau_ref_ = np.arange(0, 1, 0.01)\n",
    "tau_RC_ = np.arange(0, 1, 0.01)\n",
    "G_x = G(x_, alpha_, J_bias_, J_threshold_, tau_ref_, tau_RC_)"
   ]
  },
  {
   "cell_type": "code",
   "execution_count": 37,
   "metadata": {
    "collapsed": false
   },
   "outputs": [],
   "source": [
    "a_x = G_x # firing rate"
   ]
  },
  {
   "cell_type": "markdown",
   "metadata": {},
   "source": [
    "## Decoding"
   ]
  },
  {
   "cell_type": "code",
   "execution_count": 46,
   "metadata": {
    "collapsed": false
   },
   "outputs": [],
   "source": [
    "phi = T.vector(\"phi\")"
   ]
  }
 ],
 "metadata": {
  "kernelspec": {
   "display_name": "Python 2",
   "language": "python",
   "name": "python2"
  },
  "language_info": {
   "codemirror_mode": {
    "name": "ipython",
    "version": 2
   },
   "file_extension": ".py",
   "mimetype": "text/x-python",
   "name": "python",
   "nbconvert_exporter": "python",
   "pygments_lexer": "ipython2",
   "version": "2.7.10"
  }
 },
 "nbformat": 4,
 "nbformat_minor": 0
}
