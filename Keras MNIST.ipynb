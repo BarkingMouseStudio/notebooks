{
 "cells": [
  {
   "cell_type": "code",
   "execution_count": 32,
   "metadata": {
    "collapsed": false
   },
   "outputs": [],
   "source": [
    "from keras.models import Sequential\n",
    "from keras.layers.core import Dense, Dropout, Activation\n",
    "from keras.datasets import mnist\n",
    "from keras.utils import np_utils"
   ]
  },
  {
   "cell_type": "code",
   "execution_count": 71,
   "metadata": {
    "collapsed": false
   },
   "outputs": [],
   "source": [
    "(X_train, y_train), (X_test, y_test) = mnist.load_data()"
   ]
  },
  {
   "cell_type": "code",
   "execution_count": 72,
   "metadata": {
    "collapsed": true
   },
   "outputs": [],
   "source": [
    "batch_size = 128\n",
    "nb_classes = 10\n",
    "nb_epoch = 20"
   ]
  },
  {
   "cell_type": "code",
   "execution_count": 73,
   "metadata": {
    "collapsed": false
   },
   "outputs": [],
   "source": [
    "X_train = X_train.reshape(60000, 784)\n",
    "X_test = X_test.reshape(10000, 784)\n",
    "X_train = X_train.astype(\"float32\")\n",
    "X_test = X_test.astype(\"float32\")\n",
    "X_train /= 255\n",
    "X_test /= 255"
   ]
  },
  {
   "cell_type": "code",
   "execution_count": 74,
   "metadata": {
    "collapsed": false
   },
   "outputs": [
    {
     "name": "stdout",
     "output_type": "stream",
     "text": [
      "((60000, 784), 'train samples')\n",
      "((10000, 784), 'test samples')\n"
     ]
    }
   ],
   "source": [
    "print(X_train.shape, 'train samples')\n",
    "print(X_test.shape, 'test samples')"
   ]
  },
  {
   "cell_type": "code",
   "execution_count": 75,
   "metadata": {
    "collapsed": false
   },
   "outputs": [],
   "source": [
    "# convert class vectors to binary class matrices\n",
    "Y_train = np_utils.to_categorical(y_train, nb_classes)\n",
    "Y_test = np_utils.to_categorical(y_test, nb_classes)"
   ]
  },
  {
   "cell_type": "code",
   "execution_count": 76,
   "metadata": {
    "collapsed": true
   },
   "outputs": [],
   "source": [
    "model = Sequential()\n",
    "model.add(Dense(784, 128))\n",
    "model.add(Activation('relu'))\n",
    "model.add(Dropout(0.2))\n",
    "model.add(Dense(128, 128))\n",
    "model.add(Activation('relu'))\n",
    "model.add(Dropout(0.2))\n",
    "model.add(Dense(128, 10))\n",
    "model.add(Activation('softmax'))"
   ]
  },
  {
   "cell_type": "code",
   "execution_count": 77,
   "metadata": {
    "collapsed": false
   },
   "outputs": [],
   "source": [
    "model.compile(loss='categorical_crossentropy', optimizer='rmsprop')"
   ]
  },
  {
   "cell_type": "code",
   "execution_count": 78,
   "metadata": {
    "collapsed": false
   },
   "outputs": [
    {
     "name": "stdout",
     "output_type": "stream",
     "text": [
      "Train on 54000 samples, validate on 6000 samples\n",
      "Epoch 0\n",
      "54000/54000 [==============================] - 3s - loss: 0.4731 - acc: 0.8613 - val_loss: 0.1535 - val_acc: 0.9567\n",
      "Epoch 1\n",
      "54000/54000 [==============================] - 3s - loss: 0.2091 - acc: 0.9373 - val_loss: 0.1182 - val_acc: 0.9675\n",
      "Epoch 2\n",
      "54000/54000 [==============================] - 3s - loss: 0.1576 - acc: 0.9530 - val_loss: 0.0880 - val_acc: 0.9750\n",
      "Epoch 3\n",
      "54000/54000 [==============================] - 4s - loss: 0.1266 - acc: 0.9621 - val_loss: 0.0819 - val_acc: 0.9753\n",
      "Epoch 4\n",
      "54000/54000 [==============================] - 4s - loss: 0.1100 - acc: 0.9667 - val_loss: 0.0758 - val_acc: 0.9783\n",
      "Epoch 5\n",
      "54000/54000 [==============================] - 3s - loss: 0.0987 - acc: 0.9704 - val_loss: 0.0717 - val_acc: 0.9790\n",
      "Epoch 6\n",
      "54000/54000 [==============================] - 2s - loss: 0.0872 - acc: 0.9736 - val_loss: 0.0687 - val_acc: 0.9805\n",
      "Epoch 7\n",
      "54000/54000 [==============================] - 2s - loss: 0.0769 - acc: 0.9761 - val_loss: 0.0714 - val_acc: 0.9805\n",
      "Epoch 8\n",
      "54000/54000 [==============================] - 2s - loss: 0.0738 - acc: 0.9777 - val_loss: 0.0679 - val_acc: 0.9798\n",
      "Epoch 9\n",
      "54000/54000 [==============================] - 2s - loss: 0.0664 - acc: 0.9786 - val_loss: 0.0704 - val_acc: 0.9818\n",
      "Epoch 10\n",
      "54000/54000 [==============================] - 2s - loss: 0.0646 - acc: 0.9796 - val_loss: 0.0645 - val_acc: 0.9805\n",
      "Epoch 11\n",
      "54000/54000 [==============================] - 2s - loss: 0.0591 - acc: 0.9815 - val_loss: 0.0634 - val_acc: 0.9818\n",
      "Epoch 12\n",
      "54000/54000 [==============================] - 2s - loss: 0.0562 - acc: 0.9820 - val_loss: 0.0618 - val_acc: 0.9825\n",
      "Epoch 13\n",
      "54000/54000 [==============================] - 2s - loss: 0.0528 - acc: 0.9838 - val_loss: 0.0612 - val_acc: 0.9840\n",
      "Epoch 14\n",
      "54000/54000 [==============================] - 2s - loss: 0.0510 - acc: 0.9842 - val_loss: 0.0646 - val_acc: 0.9828\n",
      "Epoch 15\n",
      "54000/54000 [==============================] - 2s - loss: 0.0467 - acc: 0.9850 - val_loss: 0.0632 - val_acc: 0.9837\n",
      "Epoch 16\n",
      "54000/54000 [==============================] - 2s - loss: 0.0467 - acc: 0.9856 - val_loss: 0.0686 - val_acc: 0.9822\n",
      "Epoch 17\n",
      "54000/54000 [==============================] - 3s - loss: 0.0416 - acc: 0.9861 - val_loss: 0.0710 - val_acc: 0.9828\n",
      "Epoch 18\n",
      "54000/54000 [==============================] - 3s - loss: 0.0391 - acc: 0.9869 - val_loss: 0.0708 - val_acc: 0.9827\n",
      "Epoch 19\n",
      "54000/54000 [==============================] - 2s - loss: 0.0380 - acc: 0.9877 - val_loss: 0.0680 - val_acc: 0.9838\n"
     ]
    },
    {
     "data": {
      "text/plain": [
       "<keras.callbacks.History at 0x11669f790>"
      ]
     },
     "execution_count": 78,
     "metadata": {},
     "output_type": "execute_result"
    }
   ],
   "source": [
    "model.fit(X_train, Y_train, nb_epoch=nb_epoch, batch_size=batch_size, show_accuracy=True, verbose=1, validation_split=0.1)"
   ]
  },
  {
   "cell_type": "code",
   "execution_count": 79,
   "metadata": {
    "collapsed": false
   },
   "outputs": [
    {
     "name": "stdout",
     "output_type": "stream",
     "text": [
      "10000/10000 [==============================] - 0s     \n"
     ]
    }
   ],
   "source": [
    "score = model.evaluate(X_test, Y_test, show_accuracy=True, verbose=1)"
   ]
  },
  {
   "cell_type": "code",
   "execution_count": 80,
   "metadata": {
    "collapsed": false
   },
   "outputs": [
    {
     "name": "stdout",
     "output_type": "stream",
     "text": [
      "('Test score:', 0.066894233764613453)\n",
      "('Test accuracy:', 0.98070000000000002)\n"
     ]
    }
   ],
   "source": [
    "print('Test score:', score[0])\n",
    "print('Test accuracy:', score[1])"
   ]
  },
  {
   "cell_type": "markdown",
   "metadata": {},
   "source": [
    "## Model Graph"
   ]
  },
  {
   "cell_type": "code",
   "execution_count": 81,
   "metadata": {
    "collapsed": false
   },
   "outputs": [],
   "source": [
    "from keras.utils.dot_utils import Grapher\n",
    "\n",
    "grapher = Grapher()\n",
    "grapher.plot(model, 'model.png')"
   ]
  },
  {
   "cell_type": "markdown",
   "metadata": {},
   "source": [
    "![Model](model.png)"
   ]
  },
  {
   "cell_type": "code",
   "execution_count": null,
   "metadata": {
    "collapsed": true
   },
   "outputs": [],
   "source": []
  }
 ],
 "metadata": {
  "kernelspec": {
   "display_name": "Python 2",
   "language": "python",
   "name": "python2"
  },
  "language_info": {
   "codemirror_mode": {
    "name": "ipython",
    "version": 2
   },
   "file_extension": ".py",
   "mimetype": "text/x-python",
   "name": "python",
   "nbconvert_exporter": "python",
   "pygments_lexer": "ipython2",
   "version": "2.7.10"
  }
 },
 "nbformat": 4,
 "nbformat_minor": 0
}
