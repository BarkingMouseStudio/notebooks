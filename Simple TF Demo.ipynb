{
 "cells": [
  {
   "cell_type": "code",
   "execution_count": 4,
   "metadata": {
    "collapsed": false
   },
   "outputs": [
    {
     "name": "stdout",
     "output_type": "stream",
     "text": [
      "5.0\n",
      "6.0\n",
      "30.0\n"
     ]
    }
   ],
   "source": [
    "import tensorflow as tf\n",
    "import numpy as np\n",
    "\n",
    "with tf.Session() as sess:\n",
    "    a = tf.Variable(5.0, name='a')\n",
    "    b = tf.Variable(6.0, name='b')\n",
    "    c = tf.mul(a, b, name=\"c\")\n",
    "\n",
    "    sess.run(tf.initialize_all_variables())\n",
    "\n",
    "    print a.eval() # 5.0\n",
    "    print b.eval() # 6.0\n",
    "    print c.eval() # 30.0\n",
    "    \n",
    "    tf.train.write_graph(sess.graph_def, 'models/', 'train.pb', as_text=False)"
   ]
  },
  {
   "cell_type": "code",
   "execution_count": null,
   "metadata": {
    "collapsed": true
   },
   "outputs": [],
   "source": []
  }
 ],
 "metadata": {
  "kernelspec": {
   "display_name": "Python 2",
   "language": "python",
   "name": "python2"
  },
  "language_info": {
   "codemirror_mode": {
    "name": "ipython",
    "version": 2
   },
   "file_extension": ".py",
   "mimetype": "text/x-python",
   "name": "python",
   "nbconvert_exporter": "python",
   "pygments_lexer": "ipython2",
   "version": "2.7.10"
  }
 },
 "nbformat": 4,
 "nbformat_minor": 0
}
