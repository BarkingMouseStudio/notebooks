{
 "cells": [
  {
   "cell_type": "code",
   "execution_count": 1,
   "metadata": {
    "collapsed": false
   },
   "outputs": [
    {
     "data": {
      "text/plain": [
       "'\\nLucas-Kanade tracker\\n====================\\n\\nLucas-Kanade sparse optical flow demo. Uses goodFeaturesToTrack\\nfor track initialization and back-tracking for match verification\\nbetween frames.\\n\\nUsage\\n-----\\nlk_track.py [<video_source>]\\n\\n\\nKeys\\n----\\nESC - exit\\n'"
      ]
     },
     "execution_count": 1,
     "metadata": {},
     "output_type": "execute_result"
    }
   ],
   "source": [
    "'''\n",
    "Lucas-Kanade tracker\n",
    "====================\n",
    "\n",
    "Lucas-Kanade sparse optical flow demo. Uses goodFeaturesToTrack\n",
    "for track initialization and back-tracking for match verification\n",
    "between frames.\n",
    "\n",
    "Usage\n",
    "-----\n",
    "lk_track.py [<video_source>]\n",
    "\n",
    "\n",
    "Keys\n",
    "----\n",
    "ESC - exit\n",
    "'''"
   ]
  },
  {
   "cell_type": "code",
   "execution_count": 2,
   "metadata": {
    "collapsed": false
   },
   "outputs": [
    {
     "ename": "ImportError",
     "evalue": "No module named video",
     "output_type": "error",
     "traceback": [
      "\u001b[0;31m---------------------------------------------------------------------------\u001b[0m",
      "\u001b[0;31mImportError\u001b[0m                               Traceback (most recent call last)",
      "\u001b[0;32m<ipython-input-2-a636d24a1a49>\u001b[0m in \u001b[0;36m<module>\u001b[0;34m()\u001b[0m\n\u001b[1;32m      1\u001b[0m \u001b[0;32mimport\u001b[0m \u001b[0mnumpy\u001b[0m \u001b[0;32mas\u001b[0m \u001b[0mnp\u001b[0m\u001b[0;34m\u001b[0m\u001b[0m\n\u001b[1;32m      2\u001b[0m \u001b[0;32mimport\u001b[0m \u001b[0mcv2\u001b[0m\u001b[0;34m\u001b[0m\u001b[0m\n\u001b[0;32m----> 3\u001b[0;31m \u001b[0;32mimport\u001b[0m \u001b[0mvideo\u001b[0m\u001b[0;34m\u001b[0m\u001b[0m\n\u001b[0m\u001b[1;32m      4\u001b[0m \u001b[0;32mfrom\u001b[0m \u001b[0mcommon\u001b[0m \u001b[0;32mimport\u001b[0m \u001b[0manorm2\u001b[0m\u001b[0;34m,\u001b[0m \u001b[0mdraw_str\u001b[0m\u001b[0;34m\u001b[0m\u001b[0m\n\u001b[1;32m      5\u001b[0m \u001b[0;32mfrom\u001b[0m \u001b[0mtime\u001b[0m \u001b[0;32mimport\u001b[0m \u001b[0mclock\u001b[0m\u001b[0;34m\u001b[0m\u001b[0m\n",
      "\u001b[0;31mImportError\u001b[0m: No module named video"
     ]
    }
   ],
   "source": [
    "import numpy as np\n",
    "import cv2\n",
    "import video\n",
    "from common import anorm2, draw_str\n",
    "from time import clock"
   ]
  },
  {
   "cell_type": "code",
   "execution_count": null,
   "metadata": {
    "collapsed": true
   },
   "outputs": [],
   "source": [
    "\n",
    "lk_params = dict( winSize  = (15, 15),\n",
    "                  maxLevel = 2,\n",
    "                  criteria = (cv2.TERM_CRITERIA_EPS | cv2.TERM_CRITERIA_COUNT, 10, 0.03))\n",
    "\n",
    "feature_params = dict( maxCorners = 500,\n",
    "                       qualityLevel = 0.3,\n",
    "                       minDistance = 7,\n",
    "                       blockSize = 7 )\n",
    "\n",
    "class App:\n",
    "    def __init__(self, video_src):\n",
    "        self.track_len = 10\n",
    "        self.detect_interval = 5\n",
    "        self.tracks = []\n",
    "        self.cam = video.create_capture(video_src)\n",
    "        self.frame_idx = 0\n",
    "\n",
    "    def run(self):\n",
    "        while True:\n",
    "            ret, frame = self.cam.read()\n",
    "            frame_gray = cv2.cvtColor(frame, cv2.COLOR_BGR2GRAY)\n",
    "            vis = frame.copy()\n",
    "\n",
    "            if len(self.tracks) > 0:\n",
    "                img0, img1 = self.prev_gray, frame_gray\n",
    "                p0 = np.float32([tr[-1] for tr in self.tracks]).reshape(-1, 1, 2)\n",
    "                p1, st, err = cv2.calcOpticalFlowPyrLK(img0, img1, p0, None, **lk_params)\n",
    "                p0r, st, err = cv2.calcOpticalFlowPyrLK(img1, img0, p1, None, **lk_params)\n",
    "                d = abs(p0-p0r).reshape(-1, 2).max(-1)\n",
    "                good = d < 1\n",
    "                new_tracks = []\n",
    "                for tr, (x, y), good_flag in zip(self.tracks, p1.reshape(-1, 2), good):\n",
    "                    if not good_flag:\n",
    "                        continue\n",
    "                    tr.append((x, y))\n",
    "                    if len(tr) > self.track_len:\n",
    "                        del tr[0]\n",
    "                    new_tracks.append(tr)\n",
    "                    cv2.circle(vis, (x, y), 2, (0, 255, 0), -1)\n",
    "                self.tracks = new_tracks\n",
    "                cv2.polylines(vis, [np.int32(tr) for tr in self.tracks], False, (0, 255, 0))\n",
    "                draw_str(vis, (20, 20), 'track count: %d' % len(self.tracks))\n",
    "\n",
    "            if self.frame_idx % self.detect_interval == 0:\n",
    "                mask = np.zeros_like(frame_gray)\n",
    "                mask[:] = 255\n",
    "                for x, y in [np.int32(tr[-1]) for tr in self.tracks]:\n",
    "                    cv2.circle(mask, (x, y), 5, 0, -1)\n",
    "                p = cv2.goodFeaturesToTrack(frame_gray, mask = mask, **feature_params)\n",
    "                if p is not None:\n",
    "                    for x, y in np.float32(p).reshape(-1, 2):\n",
    "                        self.tracks.append([(x, y)])\n",
    "\n",
    "\n",
    "            self.frame_idx += 1\n",
    "            self.prev_gray = frame_gray\n",
    "            cv2.imshow('lk_track', vis)\n",
    "\n",
    "            ch = 0xFF & cv2.waitKey(1)\n",
    "            if ch == 27:\n",
    "                break\n",
    "\n",
    "video_src = 0\n",
    "\n",
    "    App(video_src).run()\n",
    "    cv2.destroyAllWindows()"
   ]
  }
 ],
 "metadata": {
  "kernelspec": {
   "display_name": "Python 2",
   "language": "python",
   "name": "python2"
  },
  "language_info": {
   "codemirror_mode": {
    "name": "ipython",
    "version": 2
   },
   "file_extension": ".py",
   "mimetype": "text/x-python",
   "name": "python",
   "nbconvert_exporter": "python",
   "pygments_lexer": "ipython2",
   "version": "2.7.10"
  }
 },
 "nbformat": 4,
 "nbformat_minor": 0
}
